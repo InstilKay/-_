{
 "cells": [
  {
   "cell_type": "code",
   "execution_count": 1,
   "id": "1fc0e92a",
   "metadata": {},
   "outputs": [
    {
     "name": "stdout",
     "output_type": "stream",
     "text": [
      "5.678\n"
     ]
    }
   ],
   "source": [
    "scalar = 5.678\n",
    "print(scalar)"
   ]
  },
  {
   "cell_type": "code",
   "execution_count": 5,
   "id": "3fee0e35",
   "metadata": {},
   "outputs": [],
   "source": [
    "import numpy as np"
   ]
  },
  {
   "cell_type": "code",
   "execution_count": 7,
   "id": "051bb514",
   "metadata": {},
   "outputs": [
    {
     "name": "stdout",
     "output_type": "stream",
     "text": [
      "[1 2 3 4]\n"
     ]
    }
   ],
   "source": [
    "#Row vector\n",
    "vector = np.array([1, 2, 3, 4])\n",
    "print(vector)"
   ]
  },
  {
   "cell_type": "code",
   "execution_count": 9,
   "id": "68f11394-14a6-43a7-9ba5-f906d893bb9c",
   "metadata": {},
   "outputs": [
    {
     "name": "stdout",
     "output_type": "stream",
     "text": [
      "[1 2 3 4]\n"
     ]
    }
   ],
   "source": [
    "#Column vector\n",
    "vector_C = vector.T\n",
    "print(vector_C)"
   ]
  },
  {
   "cell_type": "code",
   "execution_count": 13,
   "id": "b26fcfd5",
   "metadata": {},
   "outputs": [
    {
     "name": "stdout",
     "output_type": "stream",
     "text": [
      "[[1 2 3]\n",
      " [4 5 6]\n",
      " [7 8 9]]\n"
     ]
    }
   ],
   "source": [
    "matrix = np.array([[1, 2, 3], [4, 5, 6], [7, 8, 9]])\n",
    "print(matrix)"
   ]
  },
  {
   "cell_type": "code",
   "execution_count": 15,
   "id": "c88532cd-79f6-4e98-b821-2c2a86d81cdf",
   "metadata": {},
   "outputs": [
    {
     "name": "stdout",
     "output_type": "stream",
     "text": [
      "[[1 4 7]\n",
      " [2 5 8]\n",
      " [3 6 9]]\n"
     ]
    }
   ],
   "source": [
    "matrix_T = matrix.T\n",
    "print(matrix_T)"
   ]
  },
  {
   "cell_type": "code",
   "execution_count": 17,
   "id": "693a6756",
   "metadata": {},
   "outputs": [
    {
     "name": "stdout",
     "output_type": "stream",
     "text": [
      "[[[ 1  2  3]\n",
      "  [ 4  5  6]\n",
      "  [ 7  8  9]]\n",
      "\n",
      " [[11 12 13]\n",
      "  [14 15 16]\n",
      "  [17 18 19]]\n",
      "\n",
      " [[21 22 23]\n",
      "  [24 25 26]\n",
      "  [27 28 29]]]\n"
     ]
    }
   ],
   "source": [
    "tensor = np.array([\n",
    "    [[1, 2, 3], [4, 5, 6], [7, 8, 9]],\n",
    "    [[11, 12, 13], [14, 15, 16], [17, 18, 19]],\n",
    "    [[21, 22, 23], [24, 25, 26], [27, 28, 29]],\n",
    "])\n",
    "\n",
    "print(tensor)"
   ]
  },
  {
   "cell_type": "code",
   "execution_count": 19,
   "id": "9296db8d",
   "metadata": {},
   "outputs": [],
   "source": [
    "%matplotlib inline\n",
    "\n",
    "import matplotlib.pyplot as plt"
   ]
  },
  {
   "cell_type": "code",
   "execution_count": 21,
   "id": "eef0cb28",
   "metadata": {},
   "outputs": [
    {
     "data": {
      "image/png": "[encoded data removed]",
      "text/plain": [
       "<Figure size 640x480 with 1 Axes>"
      ]
     },
     "metadata": {},
     "output_type": "display_data"
    }
   ],
   "source": [
    "plt.imshow(tensor, interpolation='nearest')\n",
    "plt.show()"
   ]
  },
  {
   "cell_type": "code",
   "execution_count": 23,
   "id": "c9c5ae73",
   "metadata": {},
   "outputs": [],
   "source": [
    "tensor = np.array([\n",
    "    [[0, 0, 0], [0, 0, 0], [0, 0, 0]],\n",
    "    [[128, 128, 128], [128, 128, 128], [128, 128, 128]],\n",
    "    [[255, 255, 255], [255, 255, 255], [255, 255, 255]],\n",
    "])"
   ]
  },
  {
   "cell_type": "code",
   "execution_count": 25,
   "id": "9fff525e",
   "metadata": {},
   "outputs": [
    {
     "data": {
      "text/plain": [
       "<function matplotlib.pyplot.show(close=None, block=None)>"
      ]
     },
     "execution_count": 25,
     "metadata": {},
     "output_type": "execute_result"
    },
    {
     "data": {
      "image/png": "[encoded data removed]",
      "text/plain": [
       "<Figure size 640x480 with 1 Axes>"
      ]
     },
     "metadata": {},
     "output_type": "display_data"
    }
   ],
   "source": [
    "plt.imshow(tensor, interpolation='nearest')\n",
    "plt.show"
   ]
  },
  {
   "cell_type": "code",
   "execution_count": 27,
   "id": "3ba79d56",
   "metadata": {},
   "outputs": [],
   "source": [
    "#Pacman\n",
    "b = [0, 0, 0] # black\n",
    "w = [255, 255, 255] # white\n",
    "y = [255, 255, 0] # yellow\n",
    "\n",
    "pacman_tensor = np.array([\n",
    "    [w, w, w, w, w, w, w, w, w, w, w, w, w, w, w, w,],\n",
    "    [w, w, w, w, w, w, b, b, b, b, b, w, w, w, w, w,],\n",
    "    [w, w, w, w, b, b, y, y, y, y, y, b, b, w, w, w,],\n",
    "    [w, w, w, b, y, y, y, y, y, y, y, y, y, b, w, w,],\n",
    "    [w, w, b, y, y, y, y, y, y, y, y, y, y, y, b, w,],\n",
    "    [w, w, b, y, y, y, y, y, y, y, y, y, y, y, b, w,],\n",
    "    [w, b, y, y, y, y, y, y, y, y, y, y, b, b, w, w,],\n",
    "    [w, b, y, y, y, y, y, y, y, b, b, b, w, w, w, w,],\n",
    "    [w, b, y, y, y, y, b, b, b, w, w, w, w, w, w, w,],\n",
    "    [w, b, y, y, y, y, y, y, y, b, b, b, w, w, w, w,],\n",
    "    [w, b, y, y, y, y, y, y, y, y, y, y, b, b, w, w,],\n",
    "    [w, w, b, y, y, y, y, y, y, y, y, y, y, y, b, w,],\n",
    "    [w, w, b, y, y, y, y, y, y, y, y, y, y, y, b, w,],\n",
    "    [w, w, w, b, y, y, y, y, y, y, y, y, y, b, w, w,],\n",
    "    [w, w, w, w, b, b, y, y, y, y, y, b, b, w, w, w,],\n",
    "    [w, w, w, w, w, w, b, b, b, b, b, w, w, w, w, w,],\n",
    "    [w, w, w, w, w, w, w, w, w, w, w, w, w, w, w, w,],\n",
    "])"
   ]
  },
  {
   "cell_type": "code",
   "execution_count": 29,
   "id": "287e21b1",
   "metadata": {},
   "outputs": [
    {
     "data": {
      "image/png": "[encoded data removed]",
      "text/plain": [
       "<Figure size 640x480 with 1 Axes>"
      ]
     },
     "metadata": {},
     "output_type": "display_data"
    }
   ],
   "source": [
    "plt.imshow(pacman_tensor, interpolation='nearest')\n",
    "plt.show()"
   ]
  },
  {
   "cell_type": "code",
   "execution_count": 31,
   "id": "273ef069",
   "metadata": {},
   "outputs": [
    {
     "name": "stdout",
     "output_type": "stream",
     "text": [
      "(17, 16, 3)\n",
      "816\n"
     ]
    }
   ],
   "source": [
    "print(pacman_tensor.shape)\n",
    "print(pacman_tensor.size)"
   ]
  },
  {
   "cell_type": "code",
   "execution_count": 33,
   "id": "7914c4ff",
   "metadata": {},
   "outputs": [],
   "source": [
    "# NOTE: This Pixel art was not made by me\n",
    "# Credits: https://platzi.com/comentario/2663271/\n",
    "\n",
    "G=[0,68,47]\n",
    "R=[200,12,29]\n",
    "W=[255,255,255]\n",
    "B=[133,59,22]\n",
    "LG=[101,108,38]\n",
    "LB=[7,122,125]\n",
    "O=[249,162,69]\n",
    "tensorMexico=np.array([\n",
    "#     Parte de arriba\n",
    "    [G,G,G,G,G,G,G,G,G,W,W,W,W,W,W,W,W,W,R,R,R,R,R,R,R,R,R],\n",
    "    [G,G,G,G,G,G,G,G,G,W,W,W,W,W,W,W,W,W,R,R,R,R,R,R,R,R,R],\n",
    "    [G,G,G,G,G,G,G,G,G,W,W,W,W,W,W,W,W,W,R,R,R,R,R,R,R,R,R],\n",
    "    [G,G,G,G,G,G,G,G,G,W,W,W,W,W,W,W,W,W,R,R,R,R,R,R,R,R,R],\n",
    "#     Logo\n",
    "    [G,G,G,G,G,G,G,G,G,W,W,W,W,B,W,W,W,W,R,R,R,R,R,R,R,R,R],\n",
    "    [G,G,G,G,G,G,G,G,G,W,W,W,W,W,B,W,W,W,R,R,R,R,R,R,R,R,R],\n",
    "    [G,G,G,G,G,G,G,G,G,W,LG,B,B,W,B,B,W,W,R,R,R,R,R,R,R,R,R],\n",
    "    [G,G,G,G,G,G,G,G,G,W,W,LG,B,B,B,B,B,W,R,R,R,R,R,R,R,R,R],\n",
    "    [G,G,G,G,G,G,G,G,G,W,W,LG,W,B,B,B,B,W,R,R,R,R,R,R,R,R,R],\n",
    "    [G,G,G,G,G,G,G,G,G,W,W,W,B,B,B,B,W,W,R,R,R,R,R,R,R,R,R],\n",
    "    [G,G,G,G,G,G,G,G,G,W,LG,R,W,B,B,R,LG,W,R,R,R,R,R,R,R,R,R],\n",
    "    [G,G,G,G,G,G,G,G,G,W,LG,W,G,R,G,W,LG,W,R,R,R,R,R,R,R,R,R],\n",
    "    [G,G,G,G,G,G,G,G,G,W,W,LG,LB,O,LB,LG,W,W,R,R,R,R,R,R,R,R,R],\n",
    "    [G,G,G,G,G,G,G,G,G,W,W,W,LG,LG,LG,W,W,W,R,R,R,R,R,R,R,R,R],\n",
    "#     Parte de abajo\n",
    "    [G,G,G,G,G,G,G,G,G,W,W,W,W,W,W,W,W,W,R,R,R,R,R,R,R,R,R],\n",
    "    [G,G,G,G,G,G,G,G,G,W,W,W,W,W,W,W,W,W,R,R,R,R,R,R,R,R,R],\n",
    "    [G,G,G,G,G,G,G,G,G,W,W,W,W,W,W,W,W,W,R,R,R,R,R,R,R,R,R],\n",
    "    [G,G,G,G,G,G,G,G,G,W,W,W,W,W,W,W,W,W,R,R,R,R,R,R,R,R,R],\n",
    "])"
   ]
  },
  {
   "cell_type": "code",
   "execution_count": 35,
   "id": "d776163b",
   "metadata": {},
   "outputs": [
    {
     "data": {
      "text/plain": [
       "<function matplotlib.pyplot.show(close=None, block=None)>"
      ]
     },
     "execution_count": 35,
     "metadata": {},
     "output_type": "execute_result"
    },
    {
     "data": {
      "image/png": "[encoded data removed]",
      "text/plain": [
       "<Figure size 640x480 with 1 Axes>"
      ]
     },
     "metadata": {},
     "output_type": "display_data"
    }
   ],
   "source": [
    "plt.imshow(tensorMexico, interpolation='nearest')\n",
    "plt.show"
   ]
  },
  {
   "cell_type": "markdown",
   "id": "7907c8f6",
   "metadata": {},
   "source": [
    "# Dimension of a scalar, vector, matrix, or tensor"
   ]
  },
  {
   "cell_type": "code",
   "execution_count": 15,
   "id": "24a04173",
   "metadata": {},
   "outputs": [],
   "source": [
    "scalar = 5.679\n",
    "vector = np.array([1, 2, 3])\n",
    "matrix = np.array([[1, 2], [3, 4]])\n",
    "tensor = np.array([\n",
    "    [[1, 2, 3], [4, 5, 6], [7, 8, 9]],\n",
    "    [[11, 12, 13], [14, 15, 16], [17, 18, 19]],\n",
    "    [[21, 22, 23], [24, 25, 26], [27, 28, 29]],\n",
    "])"
   ]
  },
  {
   "cell_type": "code",
   "execution_count": 16,
   "id": "9ae8cfa2",
   "metadata": {},
   "outputs": [
    {
     "name": "stdout",
     "output_type": "stream",
     "text": [
      "5.679\n"
     ]
    }
   ],
   "source": [
    "print(scalar)"
   ]
  },
  {
   "cell_type": "code",
   "execution_count": 17,
   "id": "2b7e0f99",
   "metadata": {},
   "outputs": [
    {
     "name": "stdout",
     "output_type": "stream",
     "text": [
      "(3,)\n",
      "3\n"
     ]
    }
   ],
   "source": [
    "print(vector.shape)\n",
    "print(len(vector))"
   ]
  },
  {
   "cell_type": "code",
   "execution_count": 18,
   "id": "0124251e",
   "metadata": {},
   "outputs": [
    {
     "name": "stdout",
     "output_type": "stream",
     "text": [
      "(2, 2)\n",
      "2\n"
     ]
    }
   ],
   "source": [
    "print(matrix.shape)\n",
    "print(len(matrix))"
   ]
  },
  {
   "cell_type": "code",
   "execution_count": 19,
   "id": "8c58bdc4",
   "metadata": {},
   "outputs": [
    {
     "data": {
      "text/plain": [
       "4"
      ]
     },
     "execution_count": 19,
     "metadata": {},
     "output_type": "execute_result"
    }
   ],
   "source": [
    "matrix.size"
   ]
  },
  {
   "cell_type": "code",
   "execution_count": 20,
   "id": "d98f31a3",
   "metadata": {},
   "outputs": [
    {
     "name": "stdout",
     "output_type": "stream",
     "text": [
      "(3, 3, 3)\n",
      "3\n"
     ]
    }
   ],
   "source": [
    "print(tensor.shape)\n",
    "print(len(tensor))"
   ]
  },
  {
   "cell_type": "markdown",
   "id": "467c90b9",
   "metadata": {},
   "source": [
    "# Matrix addition and transposition"
   ]
  },
  {
   "cell_type": "code",
   "execution_count": 21,
   "id": "9379dab8",
   "metadata": {},
   "outputs": [],
   "source": [
    "scalar = 5.679\n",
    "vector = np.array([3, 4, 5, 6])\n",
    "matrix = np.array([[1, 2], [3, 4], [5, 6]])\n",
    "tensor = np.array([\n",
    "    [[1, 2, 3, 30], [4, 5, 6, 31], [7, 8, 9, 32]],\n",
    "    [[11, 12, 13, 33], [14, 15, 16, 34], [17, 18, 19, 35]],\n",
    "    [[21, 22, 23, 36], [24, 25, 26, 37], [27, 28, 29, 38]],\n",
    "])"
   ]
  },
  {
   "cell_type": "code",
   "execution_count": 22,
   "id": "801fe580",
   "metadata": {},
   "outputs": [],
   "source": [
    "# scalar_t = scalar.T"
   ]
  },
  {
   "cell_type": "code",
   "execution_count": 23,
   "id": "e7bb8c6f",
   "metadata": {},
   "outputs": [
    {
     "data": {
      "text/plain": [
       "array([3, 4, 5, 6])"
      ]
     },
     "execution_count": 23,
     "metadata": {},
     "output_type": "execute_result"
    }
   ],
   "source": [
    "vector_t = vector.T\n",
    "vector_t"
   ]
  },
  {
   "cell_type": "code",
   "execution_count": 24,
   "id": "8c9c1e45",
   "metadata": {},
   "outputs": [
    {
     "data": {
      "text/plain": [
       "array([[1, 3, 5],\n",
       "       [2, 4, 6]])"
      ]
     },
     "execution_count": 24,
     "metadata": {},
     "output_type": "execute_result"
    }
   ],
   "source": [
    "matrix_t = matrix.T\n",
    "matrix_t"
   ]
  },
  {
   "cell_type": "code",
   "execution_count": 25,
   "id": "e36bb156",
   "metadata": {},
   "outputs": [
    {
     "data": {
      "text/plain": [
       "array([[[ 1, 11, 21],\n",
       "        [ 4, 14, 24],\n",
       "        [ 7, 17, 27]],\n",
       "\n",
       "       [[ 2, 12, 22],\n",
       "        [ 5, 15, 25],\n",
       "        [ 8, 18, 28]],\n",
       "\n",
       "       [[ 3, 13, 23],\n",
       "        [ 6, 16, 26],\n",
       "        [ 9, 19, 29]],\n",
       "\n",
       "       [[30, 33, 36],\n",
       "        [31, 34, 37],\n",
       "        [32, 35, 38]]])"
      ]
     },
     "execution_count": 25,
     "metadata": {},
     "output_type": "execute_result"
    }
   ],
   "source": [
    "tensor_t = tensor.T\n",
    "tensor_t"
   ]
  },
  {
   "cell_type": "code",
   "execution_count": 26,
   "id": "6b5b755e",
   "metadata": {},
   "outputs": [
    {
     "data": {
      "text/plain": [
       "array([[1, 2],\n",
       "       [3, 4],\n",
       "       [5, 6]])"
      ]
     },
     "execution_count": 26,
     "metadata": {},
     "output_type": "execute_result"
    }
   ],
   "source": [
    "matrix_t_t = matrix_t.T\n",
    "matrix_t_t"
   ]
  },
  {
   "cell_type": "code",
   "execution_count": 27,
   "id": "204d12ba",
   "metadata": {},
   "outputs": [],
   "source": [
    "A = np.array([[1, 2], [3, 4], [5, 6]])\n",
    "B = np.array([[6, 5], [4, 3], [2, 1]])"
   ]
  },
  {
   "cell_type": "code",
   "execution_count": 28,
   "id": "23b2d2d3",
   "metadata": {},
   "outputs": [
    {
     "name": "stdout",
     "output_type": "stream",
     "text": [
      "[[1 2]\n",
      " [3 4]\n",
      " [5 6]] \n",
      "\n",
      "[[6 5]\n",
      " [4 3]\n",
      " [2 1]] \n",
      "\n",
      "[[7 7]\n",
      " [7 7]\n",
      " [7 7]] \n",
      "\n"
     ]
    }
   ],
   "source": [
    "C = A + B\n",
    "print(A, '\\n')\n",
    "print(B, '\\n')\n",
    "print(C, '\\n')"
   ]
  },
  {
   "cell_type": "code",
   "execution_count": 29,
   "id": "80cad4e5",
   "metadata": {},
   "outputs": [
    {
     "data": {
      "text/plain": [
       "array([[ 6.679,  7.679],\n",
       "       [ 8.679,  9.679],\n",
       "       [10.679, 11.679]])"
      ]
     },
     "execution_count": 29,
     "metadata": {},
     "output_type": "execute_result"
    }
   ],
   "source": [
    "D = matrix + scalar\n",
    "D"
   ]
  },
  {
   "cell_type": "code",
   "execution_count": 30,
   "id": "d8976682",
   "metadata": {},
   "outputs": [
    {
     "name": "stdout",
     "output_type": "stream",
     "text": [
      "[[7 7]\n",
      " [7 7]\n",
      " [7 7]]\n"
     ]
    }
   ],
   "source": [
    "# scalar sum by scalar with nested while loops\n",
    "\n",
    "A = np.array([[1, 2], [3, 4], [5, 6]])\n",
    "B = np.array([[6, 5], [4, 3], [2, 1]])\n",
    "C = np.array([[0, 0], [0, 0], [0, 0]])\n",
    "\n",
    "i = 0\n",
    "while i < 3:\n",
    "    j = 0\n",
    "    while j < 2:\n",
    "        C[i][j] = A[i][j] + B[i][j]\n",
    "        j += 1\n",
    "    i += 1\n",
    "\n",
    "print(C)"
   ]
  },
  {
   "cell_type": "markdown",
   "id": "959775a3",
   "metadata": {},
   "source": [
    "# Challenge"
   ]
  },
  {
   "cell_type": "markdown",
   "id": "04969757",
   "metadata": {},
   "source": [
    "Make a 5x5 matrix and add it to its tranpose whitout using numpy"
   ]
  },
  {
   "cell_type": "code",
   "execution_count": 31,
   "id": "424da588",
   "metadata": {},
   "outputs": [
    {
     "data": {
      "text/plain": [
       "(5, 5)"
      ]
     },
     "execution_count": 31,
     "metadata": {},
     "output_type": "execute_result"
    }
   ],
   "source": [
    "A = np.array([\n",
    "    [1, 2, 3, 4, 5],\n",
    "    [6, 7, 8, 9, 10],\n",
    "    [11, 12, 13, 14, 15],\n",
    "    [16, 17, 18, 19, 20],\n",
    "    [21, 22, 23, 24, 25]\n",
    "    ])\n",
    "\n",
    "A.shape"
   ]
  },
  {
   "cell_type": "code",
   "execution_count": 32,
   "id": "5fe12651",
   "metadata": {},
   "outputs": [
    {
     "data": {
      "text/plain": [
       "array([[0., 0., 0., 0., 0.],\n",
       "       [0., 0., 0., 0., 0.],\n",
       "       [0., 0., 0., 0., 0.],\n",
       "       [0., 0., 0., 0., 0.],\n",
       "       [0., 0., 0., 0., 0.]])"
      ]
     },
     "execution_count": 32,
     "metadata": {},
     "output_type": "execute_result"
    }
   ],
   "source": [
    "A_t = np.zeros(shape=(5, 5))\n",
    "A_t"
   ]
  },
  {
   "cell_type": "code",
   "execution_count": 33,
   "id": "ee88a5bf",
   "metadata": {},
   "outputs": [
    {
     "name": "stdout",
     "output_type": "stream",
     "text": [
      "[[ 1.  6. 11. 16. 21.]\n",
      " [ 2.  7. 12. 17. 22.]\n",
      " [ 3.  8. 13. 18. 23.]\n",
      " [ 4.  9. 14. 19. 24.]\n",
      " [ 5. 10. 15. 20. 25.]]\n"
     ]
    }
   ],
   "source": [
    "# Making the transpose\n",
    "i = 0\n",
    "while i < 5:\n",
    "    j = 0\n",
    "    while j < 5:\n",
    "        A_t[i][j] = A[j][i]\n",
    "        j += 1\n",
    "    i += 1\n",
    "\n",
    "print(A_t)"
   ]
  },
  {
   "cell_type": "code",
   "execution_count": 34,
   "id": "cd7d05b9",
   "metadata": {},
   "outputs": [
    {
     "name": "stdout",
     "output_type": "stream",
     "text": [
      "[[ 2.  8. 14. 20. 26.]\n",
      " [ 8. 14. 20. 26. 32.]\n",
      " [14. 20. 26. 32. 38.]\n",
      " [20. 26. 32. 38. 44.]\n",
      " [26. 32. 38. 44. 50.]]\n"
     ]
    }
   ],
   "source": [
    "# Adding the matrix and its transpose\n",
    "\n",
    "B = np.zeros(shape = (5, 5))\n",
    "\n",
    "i = 0\n",
    "while i < 5:\n",
    "    j = 0\n",
    "    while j < 5:\n",
    "        B[i][j] = A[i][j] + A_t[i][j]\n",
    "        j += 1\n",
    "    i += 1\n",
    "\n",
    "print(B)"
   ]
  },
  {
   "cell_type": "markdown",
   "id": "56a60013",
   "metadata": {},
   "source": [
    "# Adding Vectors and Matrices"
   ]
  },
  {
   "cell_type": "code",
   "execution_count": 35,
   "id": "13cb3fad",
   "metadata": {},
   "outputs": [],
   "source": [
    "scalar = 5.679\n",
    "vector = np.array([3 , 4, 5])\n",
    "matrix = np.array([[1, 2], [3, 4], [5, 6]])"
   ]
  },
  {
   "cell_type": "code",
   "execution_count": 36,
   "id": "d66eeec3",
   "metadata": {},
   "outputs": [
    {
     "data": {
      "text/plain": [
       "array([[ 4,  7, 10],\n",
       "       [ 5,  8, 11]])"
      ]
     },
     "execution_count": 36,
     "metadata": {},
     "output_type": "execute_result"
    }
   ],
   "source": [
    "A = matrix.T + vector\n",
    "A"
   ]
  },
  {
   "cell_type": "code",
   "execution_count": 37,
   "id": "bd17be0f",
   "metadata": {},
   "outputs": [
    {
     "data": {
      "text/plain": [
       "array([[43, 44],\n",
       "       [45, 46],\n",
       "       [47, 48]])"
      ]
     },
     "execution_count": 37,
     "metadata": {},
     "output_type": "execute_result"
    }
   ],
   "source": [
    "C = matrix + 42\n",
    "C"
   ]
  },
  {
   "cell_type": "code",
   "execution_count": 38,
   "id": "1bcc5dd8",
   "metadata": {},
   "outputs": [
    {
     "data": {
      "text/plain": [
       "array([[43, 44],\n",
       "       [45, 46],\n",
       "       [47, 48]])"
      ]
     },
     "execution_count": 38,
     "metadata": {},
     "output_type": "execute_result"
    }
   ],
   "source": [
    "D = matrix + np.array([[42], [42], [42]])\n",
    "D"
   ]
  },
  {
   "cell_type": "markdown",
   "id": "141bbe5a",
   "metadata": {},
   "source": [
    "# Challenge"
   ]
  },
  {
   "cell_type": "markdown",
   "id": "d9504cc1",
   "metadata": {},
   "source": [
    "Add a 5 elements vector to a 5x5 Matrix"
   ]
  },
  {
   "cell_type": "code",
   "execution_count": 40,
   "id": "43625c46",
   "metadata": {},
   "outputs": [
    {
     "data": {
      "text/plain": [
       "array([[ 48, 109, 117,  52, 159],\n",
       "       [ 78, 112,  88,  61,  90],\n",
       "       [106,  92,  88,  62, 125],\n",
       "       [ 51,  99, 111,  97, 102],\n",
       "       [ 82,  62,  80, 117, 101]])"
      ]
     },
     "execution_count": 40,
     "metadata": {},
     "output_type": "execute_result"
    }
   ],
   "source": [
    "# First way\n",
    "vector5 = np.array([23, 45, 54, 25, 74])\n",
    "matrix5x5 = np.array([\n",
    "    [25, 64, 63, 27, 85],\n",
    "    [55, 67, 34, 36, 16],\n",
    "    [83, 47, 34, 37, 51],\n",
    "    [28, 54, 57, 72, 28],\n",
    "    [59, 17, 26, 92, 27],\n",
    "])\n",
    "\n",
    "adding = vector5 + matrix5x5\n",
    "adding"
   ]
  },
  {
   "cell_type": "code",
   "execution_count": 41,
   "id": "79fc1696",
   "metadata": {},
   "outputs": [
    {
     "data": {
      "text/plain": [
       "array([[ 0,  2,  4,  6,  8],\n",
       "       [ 5,  7,  9, 11, 13],\n",
       "       [10, 12, 14, 16, 18],\n",
       "       [15, 17, 19, 21, 23],\n",
       "       [20, 22, 24, 26, 28]])"
      ]
     },
     "execution_count": 41,
     "metadata": {},
     "output_type": "execute_result"
    }
   ],
   "source": [
    "# Second way\n",
    "vector5 = np.arange(5)\n",
    "matrix5x5 = np.arange(25).reshape(5,5)\n",
    "adding = vector5 + matrix5x5\n",
    "adding"
   ]
  },
  {
   "cell_type": "code",
   "execution_count": 42,
   "id": "41f9b87e",
   "metadata": {},
   "outputs": [
    {
     "data": {
      "text/plain": [
       "array([[ 5,  9, 10, 12,  9],\n",
       "       [ 4,  7,  9,  9, 12],\n",
       "       [10, 12,  7, 10,  5],\n",
       "       [ 5,  5,  8,  9,  7],\n",
       "       [ 8, 10,  9, 11,  8]])"
      ]
     },
     "execution_count": 42,
     "metadata": {},
     "output_type": "execute_result"
    }
   ],
   "source": [
    "# Third way\n",
    "vector5 = np.random.randint(low=3, high=5, size=(1,5)) \n",
    "matrix5x5 = np.random.randint(low=1, high=9, size =(5,5)) \n",
    "adding = vector5 + matrix5x5\n",
    "adding"
   ]
  },
  {
   "cell_type": "markdown",
   "id": "423fe762",
   "metadata": {},
   "source": [
    "# Product Between a Matrix and a Vector"
   ]
  },
  {
   "cell_type": "code",
   "execution_count": 43,
   "id": "d2f9d942",
   "metadata": {},
   "outputs": [],
   "source": [
    "scalar = 5.679\n",
    "vector = np.array([2, 3])\n",
    "matrix = np.array([[1, 2], [3, 4], [5, 6]])"
   ]
  },
  {
   "cell_type": "code",
   "execution_count": 44,
   "id": "09810255",
   "metadata": {},
   "outputs": [
    {
     "name": "stdout",
     "output_type": "stream",
     "text": [
      "[[ 2  6]\n",
      " [ 6 12]\n",
      " [10 18]]\n"
     ]
    }
   ],
   "source": [
    "A = matrix * vector\n",
    "print(A)"
   ]
  },
  {
   "cell_type": "code",
   "execution_count": 45,
   "id": "574267f2",
   "metadata": {},
   "outputs": [
    {
     "name": "stdout",
     "output_type": "stream",
     "text": [
      "[ 8 18 28]\n",
      "[ 8 18 28]\n"
     ]
    }
   ],
   "source": [
    "# Internal product\n",
    "B = matrix.dot(vector)\n",
    "C = np.dot(matrix, vector)\n",
    "print(B)\n",
    "print(C)"
   ]
  },
  {
   "cell_type": "markdown",
   "id": "c5bf22b3",
   "metadata": {},
   "source": [
    "# Internal product between two arrays"
   ]
  },
  {
   "cell_type": "code",
   "execution_count": 46,
   "id": "30c3928f",
   "metadata": {},
   "outputs": [],
   "source": [
    "A = np.array([[1,2,3], [4,5,6], [7,8,9], [10,11,12]])\n",
    "B = np.array([[2,3], [5,7], [11,13]])"
   ]
  },
  {
   "cell_type": "code",
   "execution_count": 47,
   "id": "7079c462",
   "metadata": {},
   "outputs": [
    {
     "name": "stdout",
     "output_type": "stream",
     "text": [
      "(4, 3)\n"
     ]
    }
   ],
   "source": [
    "print(A.shape)"
   ]
  },
  {
   "cell_type": "code",
   "execution_count": 48,
   "id": "5585cfe2",
   "metadata": {},
   "outputs": [
    {
     "name": "stdout",
     "output_type": "stream",
     "text": [
      "(3, 2)\n"
     ]
    }
   ],
   "source": [
    "print(B.shape)"
   ]
  },
  {
   "cell_type": "code",
   "execution_count": 49,
   "id": "90004c35",
   "metadata": {},
   "outputs": [
    {
     "name": "stdout",
     "output_type": "stream",
     "text": [
      "[[ 45  56]\n",
      " [ 99 125]\n",
      " [153 194]\n",
      " [207 263]]\n"
     ]
    }
   ],
   "source": [
    "C = A.dot(B)\n",
    "print(C)"
   ]
  },
  {
   "cell_type": "markdown",
   "id": "28a858a7",
   "metadata": {},
   "source": [
    "# Internal product properties"
   ]
  },
  {
   "cell_type": "code",
   "execution_count": 50,
   "id": "a3d06b1a",
   "metadata": {},
   "outputs": [],
   "source": [
    "A = np.array([[2,3], [5,7], [11,13]])\n",
    "B = np.array([[1,3], [2,1]])\n",
    "C = np.array([[3,1], [4,2]])"
   ]
  },
  {
   "cell_type": "markdown",
   "id": "56167572",
   "metadata": {},
   "source": [
    "# Associative\n",
    "\n",
    "A*(B*C)=(A*B)*C"
   ]
  },
  {
   "cell_type": "code",
   "execution_count": 51,
   "id": "78da87c2",
   "metadata": {},
   "outputs": [
    {
     "name": "stdout",
     "output_type": "stream",
     "text": [
      "[[ 60  26]\n",
      " [145  63]\n",
      " [295 129]]\n"
     ]
    }
   ],
   "source": [
    "# Associative\n",
    "ABC = A.dot(B.dot(C))\n",
    "print(ABC)"
   ]
  },
  {
   "cell_type": "markdown",
   "id": "2e7c2928",
   "metadata": {},
   "source": [
    "# Distributive"
   ]
  },
  {
   "cell_type": "markdown",
   "id": "da6795ce",
   "metadata": {},
   "source": [
    "A*(B+C)=A*B+A*C"
   ]
  },
  {
   "cell_type": "code",
   "execution_count": 52,
   "id": "ac1bb48e",
   "metadata": {},
   "outputs": [
    {
     "name": "stdout",
     "output_type": "stream",
     "text": [
      "[[ 26  17]\n",
      " [ 62  41]\n",
      " [122  83]] \n",
      "\n",
      "[[ 26  17]\n",
      " [ 62  41]\n",
      " [122  83]] \n",
      "\n",
      "[[ True  True]\n",
      " [ True  True]\n",
      " [ True  True]]\n"
     ]
    }
   ],
   "source": [
    "# Distributive\n",
    "D = A.dot(B + C)\n",
    "E = (A.dot(B)) + (A.dot(C))\n",
    "print(D, '\\n')\n",
    "print(E, '\\n')\n",
    "print(D==E)"
   ]
  },
  {
   "cell_type": "markdown",
   "id": "6b371eb1",
   "metadata": {},
   "source": [
    "# Commutative"
   ]
  },
  {
   "cell_type": "code",
   "execution_count": null,
   "id": "d030b2c2",
   "metadata": {},
   "outputs": [],
   "source": [
    "B*C=C*B?"
   ]
  },
  {
   "cell_type": "code",
   "execution_count": 53,
   "id": "583b15b1",
   "metadata": {},
   "outputs": [],
   "source": [
    "F = B.dot(C)"
   ]
  },
  {
   "cell_type": "code",
   "execution_count": 54,
   "id": "24e239ce",
   "metadata": {},
   "outputs": [],
   "source": [
    "G = C.dot(B)"
   ]
  },
  {
   "cell_type": "code",
   "execution_count": 55,
   "id": "636c83cc",
   "metadata": {},
   "outputs": [
    {
     "name": "stdout",
     "output_type": "stream",
     "text": [
      "[[False False]\n",
      " [False False]]\n"
     ]
    }
   ],
   "source": [
    "print(F==C)"
   ]
  },
  {
   "cell_type": "code",
   "execution_count": 56,
   "id": "09b95556",
   "metadata": {},
   "outputs": [
    {
     "name": "stdout",
     "output_type": "stream",
     "text": [
      "[[15  7]\n",
      " [10  4]]\n"
     ]
    }
   ],
   "source": [
    "print(F)"
   ]
  },
  {
   "cell_type": "code",
   "execution_count": 57,
   "id": "d7792158",
   "metadata": {},
   "outputs": [
    {
     "name": "stdout",
     "output_type": "stream",
     "text": [
      "[[ 5 10]\n",
      " [ 8 14]]\n"
     ]
    }
   ],
   "source": [
    "print(G)"
   ]
  },
  {
   "cell_type": "markdown",
   "id": "506e48b6",
   "metadata": {},
   "source": [
    "Vector"
   ]
  },
  {
   "cell_type": "code",
   "execution_count": 58,
   "id": "584c1686",
   "metadata": {},
   "outputs": [],
   "source": [
    "v1 = np.array([[2], [7]])\n",
    "v2 = np.array([[3], [5]])\n"
   ]
  },
  {
   "cell_type": "code",
   "execution_count": 59,
   "id": "c547e829",
   "metadata": {},
   "outputs": [],
   "source": [
    "v1_tv2 = v1.T.dot(v2)\n",
    "v2_tv1 = v2.T.dot(v1)"
   ]
  },
  {
   "cell_type": "code",
   "execution_count": 60,
   "id": "20d3c33c",
   "metadata": {},
   "outputs": [
    {
     "name": "stdout",
     "output_type": "stream",
     "text": [
      "[[41]]\n",
      "[[41]]\n"
     ]
    },
    {
     "data": {
      "text/plain": [
       "[[41]]"
      ]
     },
     "execution_count": 60,
     "metadata": {},
     "output_type": "execute_result"
    }
   ],
   "source": [
    "print(v1_tv2)\n",
    "[[41]]\n",
    "print(v2_tv1)\n",
    "[[41]]\n"
   ]
  },
  {
   "cell_type": "markdown",
   "id": "c1afef83",
   "metadata": {},
   "source": [
    "# Transpose a product of matrices"
   ]
  },
  {
   "cell_type": "code",
   "execution_count": 61,
   "id": "beb0eeae",
   "metadata": {},
   "outputs": [],
   "source": [
    "A = np.array([[2,3], [5,7], [11,13]])\n",
    "B = np.array([[1,3], [2,1]])"
   ]
  },
  {
   "cell_type": "code",
   "execution_count": 62,
   "id": "e9ded9c7",
   "metadata": {},
   "outputs": [
    {
     "name": "stdout",
     "output_type": "stream",
     "text": [
      "[[ 2  3]\n",
      " [ 5  7]\n",
      " [11 13]]\n"
     ]
    }
   ],
   "source": [
    "print(A)"
   ]
  },
  {
   "cell_type": "code",
   "execution_count": 63,
   "id": "6dae1a0f",
   "metadata": {},
   "outputs": [
    {
     "name": "stdout",
     "output_type": "stream",
     "text": [
      "[[1 3]\n",
      " [2 1]]\n"
     ]
    }
   ],
   "source": [
    "print(B)"
   ]
  },
  {
   "cell_type": "code",
   "execution_count": 64,
   "id": "4329bbb9",
   "metadata": {},
   "outputs": [],
   "source": [
    "AB_t = A.dot(B).T"
   ]
  },
  {
   "cell_type": "code",
   "execution_count": 65,
   "id": "1915d513",
   "metadata": {},
   "outputs": [],
   "source": [
    "B_tA_t = B.T.dot(A.T)"
   ]
  },
  {
   "cell_type": "code",
   "execution_count": 66,
   "id": "aea65418",
   "metadata": {},
   "outputs": [
    {
     "name": "stdout",
     "output_type": "stream",
     "text": [
      "[[ 8 19 37]\n",
      " [ 9 22 46]]\n"
     ]
    }
   ],
   "source": [
    "print(AB_t)"
   ]
  },
  {
   "cell_type": "code",
   "execution_count": 67,
   "id": "1fcf022d",
   "metadata": {},
   "outputs": [
    {
     "name": "stdout",
     "output_type": "stream",
     "text": [
      "[[ 8 19 37]\n",
      " [ 9 22 46]]\n"
     ]
    }
   ],
   "source": [
    "print(B_tA_t)"
   ]
  },
  {
   "cell_type": "code",
   "execution_count": 68,
   "id": "29b394b4",
   "metadata": {},
   "outputs": [
    {
     "name": "stdout",
     "output_type": "stream",
     "text": [
      "[[ True  True  True]\n",
      " [ True  True  True]]\n"
     ]
    }
   ],
   "source": [
    "print(AB_t == B_tA_t)"
   ]
  },
  {
   "cell_type": "markdown",
   "id": "135915a5-8953-4dbd-a8d2-d7174fa03138",
   "metadata": {},
   "source": [
    "## Special types of matrices: Identity, Inverse, Singular"
   ]
  },
  {
   "cell_type": "markdown",
   "id": "ce6ae67b-f016-4cb0-a743-f836d2ea9151",
   "metadata": {},
   "source": [
    "#### Identity"
   ]
  },
  {
   "cell_type": "code",
   "execution_count": 40,
   "id": "73876ae2-607d-4ed7-8bff-a499d4f21c89",
   "metadata": {},
   "outputs": [
    {
     "name": "stdout",
     "output_type": "stream",
     "text": [
      "[[1. 0. 0. 0.]\n",
      " [0. 1. 0. 0.]\n",
      " [0. 0. 1. 0.]\n",
      " [0. 0. 0. 1.]]\n"
     ]
    }
   ],
   "source": [
    "identity = np.eye(4)\n",
    "print(identity)"
   ]
  },
  {
   "cell_type": "code",
   "execution_count": 42,
   "id": "30ba1343-0280-4259-a8e9-66205a598e09",
   "metadata": {},
   "outputs": [
    {
     "name": "stdout",
     "output_type": "stream",
     "text": [
      "[[2]\n",
      " [3]\n",
      " [5]\n",
      " [7]]\n"
     ]
    }
   ],
   "source": [
    "vector1 = np.array([[2], [3], [5], [7]])\n",
    "print(vector1)"
   ]
  },
  {
   "cell_type": "code",
   "execution_count": 46,
   "id": "b4eed7e9-ccf8-45d8-b682-ae978e7a445f",
   "metadata": {},
   "outputs": [
    {
     "name": "stdout",
     "output_type": "stream",
     "text": [
      "[[2.]\n",
      " [3.]\n",
      " [5.]\n",
      " [7.]]\n"
     ]
    }
   ],
   "source": [
    "print(identity.dot(vector1))"
   ]
  },
  {
   "cell_type": "code",
   "execution_count": null,
   "id": "a45efd02-122e-4631-aa7e-5ba211144d2c",
   "metadata": {},
   "outputs": [],
   "source": []
  },
  {
   "cell_type": "code",
   "execution_count": 48,
   "id": "3ffdc26d-8fd6-4d61-b7cf-867dc1b7edf9",
   "metadata": {},
   "outputs": [
    {
     "name": "stdout",
     "output_type": "stream",
     "text": [
      "[[ 1  0  1]\n",
      " [ 0  1  1]\n",
      " [-1  1  1]]\n"
     ]
    }
   ],
   "source": [
    "A = np.array([[1,0,1], [0,1,1], [-1,1,1]])\n",
    "print(A)"
   ]
  },
  {
   "cell_type": "markdown",
   "id": "991b0af4-9952-4f06-96aa-e9ac5444bf92",
   "metadata": {},
   "source": [
    "### Inverse of a matrix"
   ]
  },
  {
   "cell_type": "code",
   "execution_count": 51,
   "id": "101f47ce-d73d-417b-9cc6-1ed497b9738c",
   "metadata": {},
   "outputs": [
    {
     "name": "stdout",
     "output_type": "stream",
     "text": [
      "[[ 0.  1. -1.]\n",
      " [-1.  2. -1.]\n",
      " [ 1. -1.  1.]]\n"
     ]
    }
   ],
   "source": [
    "inverse_A = np.linalg.inv(A)\n",
    "print(inverse_A)"
   ]
  },
  {
   "cell_type": "code",
   "execution_count": 53,
   "id": "fef3b2b9-4d63-4ce9-8cf1-48422acc5df7",
   "metadata": {},
   "outputs": [
    {
     "name": "stdout",
     "output_type": "stream",
     "text": [
      "[[1. 0. 0.]\n",
      " [0. 1. 0.]\n",
      " [0. 0. 1.]]\n"
     ]
    }
   ],
   "source": [
    "#Checking if AA^-1=I\n",
    "print(A.dot(inverse_A))"
   ]
  },
  {
   "cell_type": "markdown",
   "id": "f9f23a92-794c-4673-84a8-831fc54d889a",
   "metadata": {},
   "source": [
    "### Singular"
   ]
  },
  {
   "cell_type": "code",
   "execution_count": 56,
   "id": "f21cc0d6-aed4-4871-8407-cd72fd1f105a",
   "metadata": {},
   "outputs": [
    {
     "name": "stdout",
     "output_type": "stream",
     "text": [
      "[[1 1]\n",
      " [1 1]]\n"
     ]
    }
   ],
   "source": [
    "#When the matrix has no inverse\n",
    "singular = np.array([[1,1], [1,1]])\n",
    "print(singular)"
   ]
  },
  {
   "cell_type": "code",
   "execution_count": null,
   "id": "a0c737cf-8af9-4116-be03-12cf8d8c0d4f",
   "metadata": {},
   "outputs": [],
   "source": [
    " # The inverse of the matrix named singular has no inverse, so will give error\n",
    "print(np.linalg.inv(singular))"
   ]
  },
  {
   "cell_type": "markdown",
   "id": "8fccc392-ea52-4d3f-ba9f-6d4129cb016b",
   "metadata": {},
   "source": [
    "### Graph vectors"
   ]
  },
  {
   "cell_type": "code",
   "execution_count": 62,
   "id": "dbb5c2c8-e919-4f3c-80b9-7c1134cf1b62",
   "metadata": {},
   "outputs": [],
   "source": [
    "import matplotlib.pyplot as plt"
   ]
  },
  {
   "cell_type": "code",
   "execution_count": 68,
   "id": "62373e2d-db05-43e0-829f-ec7de35d2ef5",
   "metadata": {},
   "outputs": [],
   "source": [
    "v1 = np.array([2,5])\n",
    "v2 = np.array([3,2])"
   ]
  },
  {
   "cell_type": "code",
   "execution_count": 73,
   "id": "13f236ae-bd77-415b-9902-783124bc4ab6",
   "metadata": {},
   "outputs": [],
   "source": [
    "def graph_vectors(vecs, cols, alpha=1):\n",
    "    plt.figure()\n",
    "    plt.axvline(x=0, color='grey', zorder=0)\n",
    "    plt.axhline(y=0, color='grey', zorder=0)\n",
    "\n",
    "    for i in range(len(vecs)):\n",
    "        x = np.concatenate([[0,0], vecs[i]])\n",
    "        plt.quiver(\n",
    "            [x[0]],\n",
    "            [x[1]],\n",
    "            [x[2]],\n",
    "            [x[3]],\n",
    "            angles='xy', scale_units='xy', scale=1, color=cols[i], alpha=alpha)"
   ]
  },
  {
   "cell_type": "code",
   "execution_count": 75,
   "id": "9b21afb5-40d4-493e-99e0-eab62de68627",
   "metadata": {},
   "outputs": [
    {
     "data": {
      "text/plain": [
       "(-1.0, 8.0)"
      ]
     },
     "execution_count": 75,
     "metadata": {},
     "output_type": "execute_result"
    },
    {
     "data": {
      "image/png": "[encoded data removed]",
      "text/plain": [
       "<Figure size 640x480 with 1 Axes>"
      ]
     },
     "metadata": {},
     "output_type": "display_data"
    }
   ],
   "source": [
    "graph_vectors([v1, v2], ['orange', 'blue'])\n",
    "plt.xlim(-1, 8)\n",
    "plt.ylim(-1, 8)"
   ]
  },
  {
   "cell_type": "markdown",
   "id": "7f697523-4231-43ae-a2d9-a52066b7ef6a",
   "metadata": {},
   "source": [
    "### Linear combinations"
   ]
  },
  {
   "cell_type": "code",
   "execution_count": 78,
   "id": "cca2c0b7-30a5-4d23-8fce-3771b4ea6f72",
   "metadata": {},
   "outputs": [],
   "source": [
    "v1 = np.array([2,5])\n",
    "v2 = np.array([3,2])"
   ]
  },
  {
   "cell_type": "code",
   "execution_count": 80,
   "id": "8de87fc8-daf0-4e33-a935-bef29ce4f3ca",
   "metadata": {},
   "outputs": [],
   "source": [
    "v1v2 = (2*v1) + (v2)"
   ]
  },
  {
   "cell_type": "code",
   "execution_count": 82,
   "id": "09775c2b-f432-4a2f-b063-d544af9662d8",
   "metadata": {},
   "outputs": [
    {
     "name": "stdout",
     "output_type": "stream",
     "text": [
      "[ 7 12]\n"
     ]
    }
   ],
   "source": [
    "print(v1v2)"
   ]
  },
  {
   "cell_type": "code",
   "execution_count": 84,
   "id": "1914ae59-df05-4876-979c-c88a104caa6e",
   "metadata": {},
   "outputs": [
    {
     "data": {
      "text/plain": [
       "(-1.0, 13.0)"
      ]
     },
     "execution_count": 84,
     "metadata": {},
     "output_type": "execute_result"
    },
    {
     "data": {
      "image/png": "[encoded data removed]",
      "text/plain": [
       "<Figure size 640x480 with 1 Axes>"
      ]
     },
     "metadata": {},
     "output_type": "display_data"
    }
   ],
   "source": [
    "graph_vectors([v1, v2, v1v2], ['orange', 'blue', 'red'])\n",
    "plt.xlim(-1, 8)\n",
    "plt.ylim(-1, 13)"
   ]
  },
  {
   "cell_type": "code",
   "execution_count": 86,
   "id": "b8d81aee-7465-4f04-a430-7b345266ed51",
   "metadata": {},
   "outputs": [
    {
     "data": {
      "image/png": "[encoded data removed]",
      "text/plain": [
       "<Figure size 640x480 with 1 Axes>"
      ]
     },
     "metadata": {},
     "output_type": "display_data"
    }
   ],
   "source": [
    "for a in range(-10, 10):\n",
    "    for b in range(-10, 10):\n",
    "        plt.scatter((v1[0]*a) + (v2[0]*b), (v1[1]*a) + (v2[1]*b),\n",
    "        marker='.',\n",
    "        color='orange')\n",
    "\n",
    "plt.xlim(-100, 100)\n",
    "plt.ylim(-100, 100)\n",
    "\n",
    "plt.axvline(x=0, color='grey')\n",
    "plt.axhline(y=0, color='grey')\n",
    "\n",
    "plt.show()"
   ]
  },
  {
   "cell_type": "markdown",
   "id": "344370de-912a-47de-8b2c-610b97215dc1",
   "metadata": {},
   "source": [
    "### The diagonal matrix and the symmetric matrix: their properties"
   ]
  },
  {
   "cell_type": "code",
   "execution_count": 89,
   "id": "7eacb00c-5355-4d70-a730-e2928406c0d8",
   "metadata": {},
   "outputs": [
    {
     "name": "stdout",
     "output_type": "stream",
     "text": [
      "[[1 0 0 0 0]\n",
      " [0 2 0 0 0]\n",
      " [0 0 3 0 0]\n",
      " [0 0 0 4 0]\n",
      " [0 0 0 0 5]]\n"
     ]
    }
   ],
   "source": [
    "vector = np.array([1,2,3,4,5])\n",
    "\n",
    "matrix = np.diag(vector)\n",
    "\n",
    "print(matrix)"
   ]
  },
  {
   "cell_type": "code",
   "execution_count": 91,
   "id": "4337bc9a-fb07-4eb4-89d6-9d1c941ff0d2",
   "metadata": {},
   "outputs": [
    {
     "name": "stdout",
     "output_type": "stream",
     "text": [
      "[[1 0 0]\n",
      " [0 2 0]\n",
      " [0 0 3]\n",
      " [0 0 0]]\n"
     ]
    }
   ],
   "source": [
    "print(matrix[0:4, 0:3])"
   ]
  },
  {
   "cell_type": "code",
   "execution_count": 93,
   "id": "3fe396f6-4df9-4ea8-b03c-f141ccec1dd7",
   "metadata": {},
   "outputs": [
    {
     "name": "stdout",
     "output_type": "stream",
     "text": [
      "[[1 0 0 0]\n",
      " [0 2 0 0]\n",
      " [0 0 3 0]]\n"
     ]
    }
   ],
   "source": [
    "print(matrix[0:3, 0:4])"
   ]
  },
  {
   "cell_type": "code",
   "execution_count": 95,
   "id": "8bf45d7d-e4f1-4cbd-857a-7189a3c349a9",
   "metadata": {},
   "outputs": [
    {
     "name": "stdout",
     "output_type": "stream",
     "text": [
      "[[2 0 0 0]\n",
      " [0 3 0 0]\n",
      " [0 0 4 0]\n",
      " [0 0 0 5]]\n"
     ]
    }
   ],
   "source": [
    "A = np.diag([2,3,4,5])\n",
    "print(A)"
   ]
  },
  {
   "cell_type": "markdown",
   "id": "debd1125-503e-4ede-b43d-978e8c662071",
   "metadata": {},
   "source": [
    "### Singular-value decomposition"
   ]
  },
  {
   "cell_type": "code",
   "execution_count": 100,
   "id": "c2e46b56-859a-4236-b5dc-47b0c243a908",
   "metadata": {},
   "outputs": [
    {
     "name": "stdout",
     "output_type": "stream",
     "text": [
      "[[1 2]\n",
      " [3 4]\n",
      " [5 6]]\n",
      "[[-0.2298477   0.88346102  0.40824829]\n",
      " [-0.52474482  0.24078249 -0.81649658]\n",
      " [-0.81964194 -0.40189603  0.40824829]]\n",
      "[9.52551809 0.51430058]\n",
      "[[-0.61962948 -0.78489445]\n",
      " [-0.78489445  0.61962948]]\n"
     ]
    }
   ],
   "source": [
    "from numpy import array\n",
    "from scipy.linalg import svd\n",
    "# define a matrix\n",
    "A = array([[1, 2], [3, 4], [5, 6]])\n",
    "print(A)\n",
    "# SVD\n",
    "U, D, VT = svd(A)\n",
    "print(U)\n",
    "print(D)\n",
    "print(VT)"
   ]
  },
  {
   "cell_type": "markdown",
   "id": "d3ae8206-27f6-4564-8a14-9f08dc1f24ab",
   "metadata": {},
   "source": [
    "### Reconstruct Matrix from SVD"
   ]
  },
  {
   "cell_type": "code",
   "execution_count": 103,
   "id": "1115474a-16a3-4977-86b5-7d0eb8ab9c8f",
   "metadata": {},
   "outputs": [
    {
     "name": "stdout",
     "output_type": "stream",
     "text": [
      "[[1 2]\n",
      " [3 4]\n",
      " [5 6]]\n",
      "[[1. 2.]\n",
      " [3. 4.]\n",
      " [5. 6.]]\n"
     ]
    }
   ],
   "source": [
    "# Reconstruct SVD\n",
    "from numpy import array\n",
    "from numpy import diag\n",
    "from numpy import dot\n",
    "from numpy import zeros\n",
    "from scipy.linalg import svd\n",
    "# define a matrix\n",
    "A = array([[1, 2], [3, 4], [5, 6]])\n",
    "print(A)\n",
    "# Singular-value decomposition\n",
    "U, D, VT = svd(A)\n",
    "\n",
    "# create m x n Sigma matrix\n",
    "Sigma = zeros((A.shape[0], A.shape[1]))\n",
    "# populate Sigma with n x n diagonal matrix\n",
    "Sigma[:A.shape[1], :A.shape[1]] = diag(D)\n",
    "\n",
    "# reconstruct matrix\n",
    "B = U.dot(Sigma.dot(VT))\n",
    "print(B)"
   ]
  },
  {
   "cell_type": "code",
   "execution_count": null,
   "id": "107c97ab-26e2-415a-ade6-e3505cb309d2",
   "metadata": {},
   "outputs": [],
   "source": []
  },
  {
   "cell_type": "code",
   "execution_count": 105,
   "id": "8acd7abf-a181-4c76-b551-a2cd573c554e",
   "metadata": {},
   "outputs": [
    {
     "name": "stdout",
     "output_type": "stream",
     "text": [
      "[[1 2 3]\n",
      " [4 5 6]\n",
      " [7 8 9]]\n",
      "[[1. 2. 3.]\n",
      " [4. 5. 6.]\n",
      " [7. 8. 9.]]\n"
     ]
    }
   ],
   "source": [
    "# Reconstruct SVD\n",
    "from numpy import array\n",
    "from numpy import diag\n",
    "from numpy import dot\n",
    "from scipy.linalg import svd\n",
    "# define a matrix\n",
    "A = array([[1, 2, 3], [4, 5, 6], [7, 8, 9]])\n",
    "print(A)\n",
    "# Singular-value decomposition\n",
    "U, D, VT = svd(A)\n",
    "# create n x n Sigma matrix\n",
    "Sigma = diag(D)\n",
    "# reconstruct matrix\n",
    "B = U.dot(Sigma.dot(VT))\n",
    "print(B)"
   ]
  },
  {
   "cell_type": "markdown",
   "id": "06fdf721-34b4-4588-ada5-79a7c8c1a42b",
   "metadata": {},
   "source": [
    "### SVD for Dimensionality Reduction"
   ]
  },
  {
   "cell_type": "markdown",
   "id": "4ee1d4e7-3aca-4bed-979f-dc6cc9b0ba2b",
   "metadata": {},
   "source": [
    "#### The example below demonstrates data reduction with the SVD."
   ]
  },
  {
   "cell_type": "code",
   "execution_count": null,
   "id": "23379057-7514-42a7-b527-7935f0a117e3",
   "metadata": {},
   "outputs": [],
   "source": []
  }
 ],
 "metadata": {
  "kernelspec": {
   "display_name": "Python 3 (ipykernel)",
   "language": "python",
   "name": "python3"
  },
  "language_info": {
   "codemirror_mode": {
    "name": "ipython",
    "version": 3
   },
   "file_extension": ".py",
   "mimetype": "text/x-python",
   "name": "python",
   "nbconvert_exporter": "python",
   "pygments_lexer": "ipython3",
   "version": "3.12.4"
  }
 },
 "nbformat": 4,
 "nbformat_minor": 5
}
